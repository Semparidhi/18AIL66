{
 "cells": [
  {
   "cell_type": "code",
   "execution_count": 1,
   "id": "d77f35bf",
   "metadata": {},
   "outputs": [],
   "source": [
    "import pandas as pd\n",
    "import numpy as np\n",
    "import itertools"
   ]
  },
  {
   "cell_type": "code",
   "execution_count": 2,
   "id": "df9fd99c",
   "metadata": {},
   "outputs": [],
   "source": [
    "import pandas as pd\n",
    "import itertools\n",
    "\n",
    "class FindS():\n",
    "        \n",
    "    def train(self, X, target):\n",
    "        \n",
    "        self.h = ['Φ', 'Φ', 'Φ', 'Φ', 'Φ', 'Φ']\n",
    "\n",
    "        for idx, x in X.iterrows():\n",
    "            if target[idx] == \"No\":\n",
    "                continue\n",
    "            for i, attr in enumerate(x):\n",
    "                if self.h[i] == 'Φ':\n",
    "                    self.h[i] = attr\n",
    "                elif self.h[i] != attr:\n",
    "                    self.h[i] = '?'\n"
   ]
  },
  {
   "cell_type": "code",
   "execution_count": 3,
   "id": "3c8cab45",
   "metadata": {},
   "outputs": [],
   "source": [
    "import itertools\n",
    "\n",
    "class ListThenEliminate:\n",
    "    def train(self, X, target):\n",
    "        unique_attributes = []\n",
    "        for col in X.columns:\n",
    "            unique_values = list(X[col].unique())\n",
    "            unique_values.extend(['?', '0'])\n",
    "            unique_attributes.append(unique_values) \n",
    "\n",
    "        self.H = list(itertools.product(*unique_attributes)) # star operator is used to unpacking\n",
    "                                                            # the list and passing its elements as separate arguments \n",
    "        self.VectorSpace = []\n",
    "        for h in self.H:\n",
    "            if self._is_consistent(h, (X, target)):\n",
    "                self.VectorSpace.append(h)\n",
    "\n",
    "    def _is_consistent(self, h, D):\n",
    "        for idx, x in D[0].iterrows():\n",
    "            prediction = self._predict(h, x)\n",
    "            if prediction != D[1][idx]:\n",
    "                return False\n",
    "        return True\n",
    "\n",
    "    def _predict(self, h, x):\n",
    "        for i, attr in enumerate(x):\n",
    "            if h[i] == '0' or (h[i] != '?' and h[i] != attr):\n",
    "                return False\n",
    "        return True\n"
   ]
  },
  {
   "cell_type": "code",
   "execution_count": null,
   "id": "5d05474d",
   "metadata": {},
   "outputs": [],
   "source": [
    "#unique_attribute collects all unique values and add [?,0] in addition to it\n",
    "\n",
    "#self.H = list(itertools.product(*unique_attributes)) generate all possible combination of unique_attributes\n",
    "\n",
    "# create an empty VersionSpace list\n",
    "#     for  self.h :\n",
    "#         add only the consistent hypothises into the version space\n",
    "\n",
    "# def _is_consitent(self,h,D):\n",
    "#     for idx,x in D[0].iterrows():\n",
    "#         prediction = self._predict(h,x)\n",
    "#         check if predicton != target[idx] i.e D[1][idx]\n",
    "#                 return false\n",
    "#         return true\n",
    "\n",
    "\n",
    "# def _predict(self,h,x):\n",
    "#     for i,attr in enumrate(x):\n",
    "#         if h[i]==0 or (h[i]!= ? and h[i]!= attr):\n",
    "#             return false\n",
    "#         return true\n",
    "        \n",
    "\n",
    "\n"
   ]
  },
  {
   "cell_type": "code",
   "execution_count": 4,
   "id": "aaa173ae",
   "metadata": {},
   "outputs": [],
   "source": [
    "data = pd.read_csv(r\"C:\\Users\\sempa\\Downloads\\enjoysport.csv\")"
   ]
  },
  {
   "cell_type": "code",
   "execution_count": 5,
   "id": "519b6141",
   "metadata": {},
   "outputs": [],
   "source": [
    "X = data.copy()"
   ]
  },
  {
   "cell_type": "code",
   "execution_count": 6,
   "id": "469d311a",
   "metadata": {},
   "outputs": [],
   "source": [
    "target = X[\"EnjoySport\"]"
   ]
  },
  {
   "cell_type": "code",
   "execution_count": 7,
   "id": "d960a428",
   "metadata": {},
   "outputs": [
    {
     "data": {
      "text/plain": [
       "0    Yes\n",
       "1    Yes\n",
       "2     No\n",
       "3    Yes\n",
       "Name: EnjoySport, dtype: object"
      ]
     },
     "metadata": {},
     "output_type": "display_data"
    }
   ],
   "source": [
    "display(target)"
   ]
  },
  {
   "cell_type": "code",
   "execution_count": 8,
   "id": "d7bf29bf",
   "metadata": {},
   "outputs": [],
   "source": [
    "X = X.iloc[:,:-1]"
   ]
  },
  {
   "cell_type": "code",
   "execution_count": 9,
   "id": "61678a83",
   "metadata": {},
   "outputs": [
    {
     "data": {
      "text/html": [
       "<div>\n",
       "<style scoped>\n",
       "    .dataframe tbody tr th:only-of-type {\n",
       "        vertical-align: middle;\n",
       "    }\n",
       "\n",
       "    .dataframe tbody tr th {\n",
       "        vertical-align: top;\n",
       "    }\n",
       "\n",
       "    .dataframe thead th {\n",
       "        text-align: right;\n",
       "    }\n",
       "</style>\n",
       "<table border=\"1\" class=\"dataframe\">\n",
       "  <thead>\n",
       "    <tr style=\"text-align: right;\">\n",
       "      <th></th>\n",
       "      <th>Sky</th>\n",
       "      <th>AirTemp</th>\n",
       "      <th>Humidity</th>\n",
       "      <th>Wind</th>\n",
       "      <th>Water</th>\n",
       "      <th>Forecast</th>\n",
       "    </tr>\n",
       "  </thead>\n",
       "  <tbody>\n",
       "    <tr>\n",
       "      <th>0</th>\n",
       "      <td>Sunny</td>\n",
       "      <td>Warm</td>\n",
       "      <td>Normal</td>\n",
       "      <td>Strong</td>\n",
       "      <td>Warm</td>\n",
       "      <td>Same</td>\n",
       "    </tr>\n",
       "    <tr>\n",
       "      <th>1</th>\n",
       "      <td>Sunny</td>\n",
       "      <td>Warm</td>\n",
       "      <td>High</td>\n",
       "      <td>Strong</td>\n",
       "      <td>Warm</td>\n",
       "      <td>Same</td>\n",
       "    </tr>\n",
       "    <tr>\n",
       "      <th>2</th>\n",
       "      <td>Rainy</td>\n",
       "      <td>Cold</td>\n",
       "      <td>High</td>\n",
       "      <td>Strong</td>\n",
       "      <td>Warm</td>\n",
       "      <td>Change</td>\n",
       "    </tr>\n",
       "    <tr>\n",
       "      <th>3</th>\n",
       "      <td>Sunny</td>\n",
       "      <td>Warm</td>\n",
       "      <td>High</td>\n",
       "      <td>Strong</td>\n",
       "      <td>Cool</td>\n",
       "      <td>Change</td>\n",
       "    </tr>\n",
       "  </tbody>\n",
       "</table>\n",
       "</div>"
      ],
      "text/plain": [
       "     Sky AirTemp Humidity    Wind Water Forecast\n",
       "0  Sunny    Warm   Normal  Strong  Warm     Same\n",
       "1  Sunny    Warm     High  Strong  Warm     Same\n",
       "2  Rainy    Cold     High  Strong  Warm   Change\n",
       "3  Sunny    Warm     High  Strong  Cool   Change"
      ]
     },
     "metadata": {},
     "output_type": "display_data"
    }
   ],
   "source": [
    "display(X)"
   ]
  },
  {
   "cell_type": "markdown",
   "id": "722ae2ad",
   "metadata": {},
   "source": [
    "### find s algorithm"
   ]
  },
  {
   "cell_type": "code",
   "execution_count": 10,
   "id": "43d9da43",
   "metadata": {},
   "outputs": [],
   "source": [
    "find_S = FindS()\n",
    "find_S.train(X, target)"
   ]
  },
  {
   "cell_type": "code",
   "execution_count": 11,
   "id": "b289dafc",
   "metadata": {},
   "outputs": [
    {
     "name": "stdout",
     "output_type": "stream",
     "text": [
      "The specific hypothesis is ['Sunny', 'Warm', '?', 'Strong', '?', '?']\n"
     ]
    }
   ],
   "source": [
    "print(\"The specific hypothesis is\", find_S.h)"
   ]
  },
  {
   "cell_type": "markdown",
   "id": "8a379e4b",
   "metadata": {},
   "source": [
    "### List then eliminate"
   ]
  },
  {
   "cell_type": "code",
   "execution_count": 12,
   "id": "89206388",
   "metadata": {},
   "outputs": [],
   "source": [
    "target = target.apply(lambda x: True if x == \"Yes\" else False)"
   ]
  },
  {
   "cell_type": "code",
   "execution_count": 13,
   "id": "7465c6dd",
   "metadata": {},
   "outputs": [],
   "source": [
    "list_then_eliminate = ListThenEliminate()\n",
    "list_then_eliminate.train(X, target)"
   ]
  },
  {
   "cell_type": "code",
   "execution_count": 14,
   "id": "7b1a91ee",
   "metadata": {},
   "outputs": [
    {
     "data": {
      "text/plain": [
       "[('Sunny', 'Warm', '?', 'Strong', '?', '?'),\n",
       " ('Sunny', 'Warm', '?', '?', '?', '?'),\n",
       " ('Sunny', '?', '?', 'Strong', '?', '?'),\n",
       " ('Sunny', '?', '?', '?', '?', '?'),\n",
       " ('?', 'Warm', '?', 'Strong', '?', '?'),\n",
       " ('?', 'Warm', '?', '?', '?', '?')]"
      ]
     },
     "metadata": {},
     "output_type": "display_data"
    }
   ],
   "source": [
    "display(list_then_eliminate.VectorSpace)"
   ]
  },
  {
   "cell_type": "markdown",
   "id": "748f91ec",
   "metadata": {},
   "source": [
    "### viva"
   ]
  },
  {
   "cell_type": "markdown",
   "id": "f3a6cfad",
   "metadata": {},
   "source": [
    "list then eleminate= taking subset of hypothesis that are consistent i.e h(x) = c(x) "
   ]
  },
  {
   "cell_type": "code",
   "execution_count": 16,
   "id": "23b75fe7",
   "metadata": {},
   "outputs": [],
   "source": []
  },
  {
   "cell_type": "code",
   "execution_count": null,
   "id": "f9bdc5e5",
   "metadata": {},
   "outputs": [],
   "source": []
  },
  {
   "cell_type": "code",
   "execution_count": null,
   "id": "0a29c69f",
   "metadata": {},
   "outputs": [],
   "source": []
  },
  {
   "cell_type": "code",
   "execution_count": null,
   "id": "960e44e6",
   "metadata": {},
   "outputs": [],
   "source": []
  }
 ],
 "metadata": {
  "kernelspec": {
   "display_name": "Python 3 (ipykernel)",
   "language": "python",
   "name": "python3"
  },
  "language_info": {
   "codemirror_mode": {
    "name": "ipython",
    "version": 3
   },
   "file_extension": ".py",
   "mimetype": "text/x-python",
   "name": "python",
   "nbconvert_exporter": "python",
   "pygments_lexer": "ipython3",
   "version": "3.10.10"
  }
 },
 "nbformat": 4,
 "nbformat_minor": 5
}
