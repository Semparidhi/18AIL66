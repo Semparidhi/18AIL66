{
 "cells": [
  {
   "cell_type": "code",
   "execution_count": 1,
   "id": "d818619a",
   "metadata": {},
   "outputs": [],
   "source": [
    "import numpy as np\n",
    "\n",
    "class Node:\n",
    "    def __init__(self):\n",
    "        self.value = \"\"\n",
    "        self.children = []\n",
    "        self.entropy = 0.0\n",
    "        self.sample_count = 0\n",
    "        self.isLeaf = False\n",
    "        self.prediction = \"\"\n",
    "\n",
    "class ID3DecisionTreeClassifier:\n",
    "    def entropy(self, data, target_attrib_name):\n",
    "        entropy = 0.0\n",
    "        examples_count = data.shape[0]\n",
    "\n",
    "        for target_value in data[target_attrib_name].unique():\n",
    "            filtered_examples_count = (data[target_attrib_name] == target_value).sum()\n",
    "            entropy += -filtered_examples_count/examples_count * np.log2(filtered_examples_count/examples_count)\n",
    "\n",
    "        return entropy\n",
    "\n",
    "    def info_gain(self, data, attrib_name, target_attrib_name):\n",
    "        entropy = self.entropy(data, target_attrib_name)\n",
    "        sum_entropy_subsets = sum(data[data[attrib_name] == attrib_val].shape[0]/data.shape[0] * self.entropy(data[data[attrib_name] == attrib_val], target_attrib_name) for attrib_val in data[attrib_name].unique())\n",
    "\n",
    "        return entropy - sum_entropy_subsets\n",
    "\n",
    "    def fit(self, data, target_attrib_name):\n",
    "        self.__tree = self.__ID3(data, data.columns[data.columns != target_attrib_name], target_attrib_name)\n",
    "\n",
    "    def __ID3(self, data, attrib_names, target_attrib_name):\n",
    "        root = Node()\n",
    "        root.entropy = self.entropy(data, target_attrib_name)\n",
    "        root.sample_count = data.shape[0]\n",
    "\n",
    "        if root.entropy == 0.0:\n",
    "            root.isLeaf = True\n",
    "            root.prediction = data[target_attrib_name].unique()\n",
    "            return root\n",
    "\n",
    "        best_info_gain, best_attrib = max((self.info_gain(data, attrib_name, target_attrib_name), attrib_name) for attrib_name in attrib_names)\n",
    "\n",
    "        root.value = best_attrib\n",
    "\n",
    "        for attrib_unique_value in data[best_attrib].unique():\n",
    "            data_subset = data[data[best_attrib] == attrib_unique_value]\n",
    "            new_attrib_names = attrib_names[attrib_names != best_attrib]\n",
    "\n",
    "            root.children.append({attrib_unique_value: self.__ID3(data_subset, new_attrib_names, target_attrib_name)})\n",
    "\n",
    "        return root\n",
    "\n",
    "    def predict(self, data):\n",
    "        return self.__predict(self.__tree, data)\n",
    "\n",
    "    def __predict(self, root: Node, data):\n",
    "        if root.isLeaf:\n",
    "            return root.prediction\n",
    "        else:\n",
    "            for child in root.children:\n",
    "                if list(child.keys())[0] == data[root.value]:\n",
    "                    return self.__predict(list(child.values())[0], data)\n",
    "\n",
    "    def print_tree(self, offset=0):\n",
    "        self.__print_tree(self.__tree, offset)\n",
    "        print(\"\\nLEGENDS:\")\n",
    "        print(\"e: entropy, s: sample count, p: prediction\")\n",
    "\n",
    "    def __print_tree(self, root: Node, offset=0):\n",
    "        for i in range(offset):\n",
    "            print(\"\\t\", end=\"\")\n",
    "\n",
    "        if root.isLeaf:\n",
    "            print(\"('LEAF') [e: {:.2f}, s: {}, p: {}]\".format(root.entropy, root.sample_count, root.prediction))\n",
    "        else:\n",
    "            print(\"({}) [e: {:.2f}, s: {}]\".format(root.value, root.entropy, root.sample_count), end=\"\")\n",
    "            print()\n",
    "            for child in root.children:\n",
    "                for i in range(offset + 1):\n",
    "                    print(\"\\t\", end=\"\")\n",
    "                print(list(child.keys())[0])\n",
    "                self.__print_tree(list(child.values())[0], offset + 2)\n"
   ]
  },
  {
   "cell_type": "code",
   "execution_count": 3,
   "id": "e5a507c0",
   "metadata": {},
   "outputs": [],
   "source": [
    "import pandas as pd\n"
   ]
  },
  {
   "cell_type": "code",
   "execution_count": 4,
   "id": "8aa1361e",
   "metadata": {},
   "outputs": [],
   "source": [
    "data = pd.read_csv(r\"C:\\Users\\sempa\\Documents\\College_Notes\\6TH SEM\\Lab\\Data\\playtennis.csv\")\n",
    "data = data[[\"Outlook\", \"Temperature\", \"Humidity\", \"Wind\", \"PlayTennis\"]]"
   ]
  },
  {
   "cell_type": "code",
   "execution_count": 5,
   "id": "73b7d992",
   "metadata": {},
   "outputs": [
    {
     "name": "stdout",
     "output_type": "stream",
     "text": [
      "(Outlook) [e: 0.94, s: 14]\n",
      "\tSunny\n",
      "\t\t(Humidity) [e: 0.97, s: 5]\n",
      "\t\t\tHigh\n",
      "\t\t\t\t('LEAF') [e: 0.00, s: 3, p: ['No']]\n",
      "\t\t\tNormal\n",
      "\t\t\t\t('LEAF') [e: 0.00, s: 2, p: ['Yes']]\n",
      "\tOvercast\n",
      "\t\t('LEAF') [e: 0.00, s: 4, p: ['Yes']]\n",
      "\tRain\n",
      "\t\t(Wind) [e: 0.97, s: 5]\n",
      "\t\t\tWeak\n",
      "\t\t\t\t('LEAF') [e: 0.00, s: 3, p: ['Yes']]\n",
      "\t\t\tStrong\n",
      "\t\t\t\t('LEAF') [e: 0.00, s: 2, p: ['No']]\n",
      "\n",
      "LEGENDS:\n",
      "e: entropy, s: sample count, p: prediction\n"
     ]
    }
   ],
   "source": [
    "id3DecisionTreeClassifier = ID3DecisionTreeClassifier()\n",
    "id3DecisionTreeClassifier.fit(data, \"PlayTennis\")\n",
    "id3DecisionTreeClassifier.print_tree()"
   ]
  },
  {
   "cell_type": "code",
   "execution_count": 6,
   "id": "42ed5dc5",
   "metadata": {},
   "outputs": [
    {
     "name": "stdout",
     "output_type": "stream",
     "text": [
      "['Yes']\n"
     ]
    }
   ],
   "source": [
    "test_data = {\"Outlook\": \"Sunny\", \"Temperature\": \"Hot\", \"Humidity\": \"Normal\", \"Wind\": \"Strong\"}\n",
    "prediction = id3DecisionTreeClassifier.predict(test_data)\n",
    "print(prediction)"
   ]
  },
  {
   "cell_type": "code",
   "execution_count": null,
   "id": "fe33138e",
   "metadata": {},
   "outputs": [],
   "source": []
  }
 ],
 "metadata": {
  "kernelspec": {
   "display_name": "Python 3 (ipykernel)",
   "language": "python",
   "name": "python3"
  },
  "language_info": {
   "codemirror_mode": {
    "name": "ipython",
    "version": 3
   },
   "file_extension": ".py",
   "mimetype": "text/x-python",
   "name": "python",
   "nbconvert_exporter": "python",
   "pygments_lexer": "ipython3",
   "version": "3.10.10"
  }
 },
 "nbformat": 4,
 "nbformat_minor": 5
}
